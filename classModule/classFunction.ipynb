{
 "cells": [
  {
   "cell_type": "code",
   "execution_count": 10,
   "metadata": {
    "collapsed": true
   },
   "outputs": [],
   "source": [
    "import BasicClass\n",
    "import inspect\n",
    "import datetime"
   ]
  },
  {
   "cell_type": "code",
   "execution_count": 5,
   "metadata": {
    "collapsed": true
   },
   "outputs": [],
   "source": [
    "def OrderById(inputLst):\n",
    "\n",
    "    # input checking\n",
    "    if len(inputLst) == 0 : return inputLst\n",
    "    \n",
    "    for item in inputLst:\n",
    "        if isinstance(item, BasicClass.Individuals) == False and isinstance(item, BasicClass.Families) == False :\n",
    "            print(\"Unexpected List\") \n",
    "            return inputLst\n",
    "    \n",
    "    orderedlst = []\n",
    "    idDict = {}\n",
    "    \n",
    "    # making ID dict\n",
    "    for idx,item in enumerate(inputLst):\n",
    "        if item.ID in idDict:\n",
    "            print(\"Same ID exists\")\n",
    "            return inputLst\n",
    "        else:\n",
    "            idDict[item.ID] = idx\n",
    "    \n",
    "    # order by ID \n",
    "    sorted_by_value = sorted(idDict.items(), key=lambda kv: kv[0])\n",
    "\n",
    "    # Re-making list\n",
    "    for x in sorted_by_value:\n",
    "        orderedlst.append(inputLst[idDict[x[0]]])\n",
    "\n",
    "    return orderedlst"
   ]
  },
  {
   "cell_type": "code",
   "execution_count": 7,
   "metadata": {
    "collapsed": true
   },
   "outputs": [],
   "source": [
    "#US01\n",
    "def DateBeforeCur(test_Year,test_Month,test_Day):\n",
    "    if type(test_Year)!=int or type(test_Month)!=int or type(test_Day)!=int:\n",
    "        print(\"Wrong data type for input\")\n",
    "        return False\n",
    "    test_Date=datetime.date(test_Year,test_Month,test_Day)\n",
    "    count=(test_Date-date.today())/datetime.timedelta(days=1)\n",
    "    return count<0\n",
    "\n",
    "#US06\n",
    "def ValidDivorcestr(indList,fList):\n",
    "    for each in fList:\n",
    "        if each.Divorced!=\"NA\":\n",
    "            for eachind in indList:\n",
    "                if each.HusbandID==eachind.ID or each.WifeID=eachind.ID:\n",
    "                    if eachind.Death!=\"NA\":\n",
    "                        death=(datetime.datetime.strptime(eachind.Death,\"%Y-%m-%d\")-datetime.datetime.strptime(each.Divorced,\"%Y-%m-%d\"))/datetime.timedelta(days=1)\n",
    "                        if death<0:\n",
    "                            print(\"No\"+eachind.Id+\": \"+eachind.Name+\" is dead before divorced. Please check again.\")\n",
    "                            return False\n",
    "                    \n",
    "    return True"
   ]
  },
  {
   "cell_type": "code",
   "execution_count": null,
   "metadata": {
    "collapsed": true
   },
   "outputs": [],
   "source": []
  }
 ],
 "metadata": {
  "kernelspec": {
   "display_name": "Python 3",
   "language": "python",
   "name": "python3"
  },
  "language_info": {
   "codemirror_mode": {
    "name": "ipython",
    "version": 3
   },
   "file_extension": ".py",
   "mimetype": "text/x-python",
   "name": "python",
   "nbconvert_exporter": "python",
   "pygments_lexer": "ipython3",
   "version": "3.6.3"
  }
 },
 "nbformat": 4,
 "nbformat_minor": 2
}
