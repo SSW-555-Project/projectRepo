{
 "cells": [
  {
   "cell_type": "code",
   "execution_count": null,
   "metadata": {},
   "outputs": [],
   "source": [
    "import os\n",
    "from module.func.loadData import *"
   ]
  },
  {
   "cell_type": "code",
   "execution_count": null,
   "metadata": {},
   "outputs": [],
   "source": [
    "# input sample\n",
    "file_name = 'nov10.ged'\n",
    "filePath = os.path.join(os.getcwd(), \"Sample/\" + file_name)\n",
    "\n",
    "# create list for individual and families\n",
    "individualList=[]\n",
    "familyList=[]\n",
    "\n",
    "# read file to create individual and families\n",
    "if os.path.exists(filePath):\n",
    "    readAndSaveToList(filePath, individualList, familyList)\n",
    "else:\n",
    "    print(\"File doesn't exist\")"
   ]
  },
  {
   "cell_type": "code",
   "execution_count": null,
   "metadata": {},
   "outputs": [],
   "source": [
    "writeFile = False\n",
    "if writeFile:\n",
    "    outputFile=\"outputFile.txt\"\n",
    "    writefile = open(outputFile,\"w\") "
   ]
  },
  {
   "cell_type": "code",
   "execution_count": null,
   "metadata": {},
   "outputs": [],
   "source": [
    "#Making PrettyTable\n",
    "import prettytable as pt\n",
    "\n",
    "\n",
    "tb=pt.PrettyTable()\n",
    "tb.field_names=[\"ID\",\"Name\",\"Gender\",\"Birthday\",\"Age\",\"Alive\",\"Death\"\\\n",
    "                ,\"Child\",\"Spouse\"]\n",
    "for each in individualList:\n",
    "    tb.add_row([each.ID,each.Name,each.Gender,each.Birthday,each.Age,\\\n",
    "              each.Alive,each.Death,each.Child,each.Spouse])\n",
    "print(tb)\n",
    "if writeFile:\n",
    "    writefile.write(\"Individuals\\n\") \n",
    "    writefile.write(tb.get_string()) \n",
    "    writefile.write(\"\\n\") \n",
    "\n",
    "tb2=pt.PrettyTable()\n",
    "tb2.field_names=[\"ID\",\"Married\",\"Divorced\",\"Husband ID\",\"Husband Name\",\"Wife ID\",\"Wife Name\"\\\n",
    "                ,\"Children\"]\n",
    "for each in familyList:\n",
    "    tb2.add_row([each.ID,each.Married,each.Divorced,each.HusbandID,each.HusbandName,\\\n",
    "              each.WifeID,each.WifeName,each.Children])\n",
    "print(tb2)\n",
    "if writeFile:\n",
    "    writefile.write(\"Families\\n\") \n",
    "    writefile.write(tb2.get_string()) "
   ]
  },
  {
   "cell_type": "code",
   "execution_count": null,
   "metadata": {},
   "outputs": [],
   "source": [
    "if writeFile:\n",
    "    writefile.close()"
   ]
  },
  {
   "cell_type": "code",
   "execution_count": null,
   "metadata": {},
   "outputs": [],
   "source": [
    "# # Sample code for testing\n",
    "# from module.func.sprint2Func import *\n",
    "\n",
    "# for fm in familyList:   \n",
    "#     print(isMaleLastNames(fm, individualList))\n",
    "\n",
    "# #making error case\n",
    "# errorSample = getItemByID(individualList, \"I5\")\n",
    "# errorSample.Name = 'Brat /Pitta/' \n",
    "\n",
    "# for fm in familyList:   \n",
    "#     print(isMaleLastNames(fm, individualList))"
   ]
  },
  {
   "cell_type": "code",
   "execution_count": null,
   "metadata": {},
   "outputs": [],
   "source": []
  }
 ],
 "metadata": {
  "kernelspec": {
   "display_name": "Python 3",
   "language": "python",
   "name": "python3"
  },
  "language_info": {
   "codemirror_mode": {
    "name": "ipython",
    "version": 3
   },
   "file_extension": ".py",
   "mimetype": "text/x-python",
   "name": "python",
   "nbconvert_exporter": "python",
   "pygments_lexer": "ipython3",
   "version": "3.6.5"
  }
 },
 "nbformat": 4,
 "nbformat_minor": 2
}
