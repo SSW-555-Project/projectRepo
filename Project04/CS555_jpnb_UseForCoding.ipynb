{
 "cells": [
  {
   "cell_type": "code",
   "execution_count": 1,
   "metadata": {
    "collapsed": true
   },
   "outputs": [],
   "source": [
    "import os\n",
    "from module.func.loadData import *"
   ]
  },
  {
   "cell_type": "code",
   "execution_count": 2,
   "metadata": {
    "collapsed": true
   },
   "outputs": [],
   "source": [
    "# input sample\n",
    "file_name = 'userStory.ged'\n",
    "filePath = os.path.join(os.getcwd(), \"Sample/\" + file_name)\n",
    "\n",
    "# create list for individual and families\n",
    "individualList=[]\n",
    "familyList=[]\n",
    "\n",
    "# read file to create individual and families\n",
    "if os.path.exists(filePath):\n",
    "    readAndSaveToList(filePath, individualList, familyList)\n",
    "else:\n",
    "    print(\"File doesn't exist\")"
   ]
  },
  {
   "cell_type": "code",
   "execution_count": 3,
   "metadata": {
    "collapsed": true
   },
   "outputs": [],
   "source": [
    "writeFile = False\n",
    "if writeFile:\n",
    "    outputFile=\"outputFile.txt\"\n",
    "    writefile = open(outputFile,\"w\") "
   ]
  },
  {
   "cell_type": "code",
   "execution_count": 4,
   "metadata": {
    "scrolled": false
   },
   "outputs": [
    {
     "name": "stdout",
     "output_type": "stream",
     "text": [
      "+-----+------------------+--------+------------+-----+-------+------------+-------+--------+\n",
      "|  ID |       Name       | Gender |  Birthday  | Age | Alive |   Death    | Child | Spouse |\n",
      "+-----+------------------+--------+------------+-----+-------+------------+-------+--------+\n",
      "|  I1 |   Joe /Smith/    |   M    | 1960-07-15 |  53 | False | 2013-12-31 |  None |   F1   |\n",
      "|  I2 | Jennifer /Smith/ |   F    | 1960-09-23 |  58 |  True |     NA     |   F2  |   F1   |\n",
      "|  I3 |   Dick /Smith/   |   M    | 1981-02-13 |  37 |  True |     NA     |   F1  |   NA   |\n",
      "|  I4 |   Jane /Smith/   |   F    | 1983-06-02 |  35 |  True |     NA     |   F1  |   NA   |\n",
      "|  I5 |   Brat /Pitt/    |   M    | 1930-01-01 |  88 |  True |     NA     |   F4  |   F3   |\n",
      "|  I6 |   Becky /Pitt/   |   F    | 1930-01-23 |  89 | False | 2019-04-01 |  None |   F2   |\n",
      "|  I7 |    Fa /Pitt/     |   M    | 1800-03-09 | 218 |  True |     NA     |  None |   F4   |\n",
      "|  I8 |    Mo /Pitt/     |   F    | 1950-03-06 |  68 |  True |     NA     |  None |   F4   |\n",
      "|  I9 |  Britney /Liu/   |   F    | 1998-04-09 |  18 | False | 2016-09-04 |  None |   F3   |\n",
      "| I10 | Derrick /Smith/  |   M    | 1986-11-05 |  31 |  True |     NA     |   F1  |   F5   |\n",
      "| I11 |   Death /Pitt/   |   F    | 2020-07-06 | -20 | False | 2000-02-07 |   F3  |   NA   |\n",
      "| I12 |    Ann /Hong/    |   F    | 2006-04-03 |  12 |  True |     NA     |  None |   F5   |\n",
      "+-----+------------------+--------+------------+-----+-------+------------+-------+--------+\n",
      "+----+------------+------------+------------+-----------------+---------+------------------+---------------------+\n",
      "| ID |  Married   |  Divorced  | Husband ID |   Husband Name  | Wife ID |    Wife Name     |       Children      |\n",
      "+----+------------+------------+------------+-----------------+---------+------------------+---------------------+\n",
      "| F1 | 1980-04-11 | 1985-04-07 |     I1     |   Joe /Smith/   |    I2   | Jennifer /Smith/ | ['I3', 'I4', 'I10'] |\n",
      "| F2 | 2017-04-05 | 2019-05-01 |     I5     |   Brat /Pitt/   |    I6   |   Becky /Pitt/   |        ['I2']       |\n",
      "| F3 | 2014-10-08 | 2016-09-04 |     I5     |   Brat /Pitt/   |    I9   |  Britney /Liu/   |       ['I11']       |\n",
      "| F4 | 1940-04-04 | 1930-05-07 |     I7     |    Fa /Pitt/    |    I8   |    Mo /Pitt/     |        ['I5']       |\n",
      "| F5 | 2007-03-02 |     NA     |    I10     | Derrick /Smith/ |   I12   |    Ann /Hong/    |          []         |\n",
      "+----+------------+------------+------------+-----------------+---------+------------------+---------------------+\n"
     ]
    }
   ],
   "source": [
    "#Making PrettyTable\n",
    "import prettytable as pt\n",
    "\n",
    "\n",
    "tb=pt.PrettyTable()\n",
    "tb.field_names=[\"ID\",\"Name\",\"Gender\",\"Birthday\",\"Age\",\"Alive\",\"Death\"\\\n",
    "                ,\"Child\",\"Spouse\"]\n",
    "for each in individualList:\n",
    "    tb.add_row([each.ID,each.Name,each.Gender,each.Birthday,each.Age,\\\n",
    "              each.Alive,each.Death,each.Child,each.Spouse])\n",
    "print(tb)\n",
    "if writeFile:\n",
    "    writefile.write(\"Individuals\\n\") \n",
    "    writefile.write(tb.get_string()) \n",
    "    writefile.write(\"\\n\") \n",
    "\n",
    "tb2=pt.PrettyTable()\n",
    "tb2.field_names=[\"ID\",\"Married\",\"Divorced\",\"Husband ID\",\"Husband Name\",\"Wife ID\",\"Wife Name\"\\\n",
    "                ,\"Children\"]\n",
    "for each in familyList:\n",
    "    tb2.add_row([each.ID,each.Married,each.Divorced,each.HusbandID,each.HusbandName,\\\n",
    "              each.WifeID,each.WifeName,each.Children])\n",
    "print(tb2)\n",
    "if writeFile:\n",
    "    writefile.write(\"Families\\n\") \n",
    "    writefile.write(tb2.get_string()) "
   ]
  },
  {
   "cell_type": "code",
   "execution_count": 5,
   "metadata": {
    "collapsed": true
   },
   "outputs": [],
   "source": [
    "if writeFile:\n",
    "    writefile.close()"
   ]
  },
  {
   "cell_type": "code",
   "execution_count": 6,
   "metadata": {
    "collapsed": true
   },
   "outputs": [],
   "source": [
    "# # Sample code for testing\n",
    "# from module.func.sprint2Func import *\n",
    "\n",
    "# for fm in familyList:   \n",
    "#     print(isMaleLastNames(fm, individualList))\n",
    "\n",
    "# #making error case\n",
    "# errorSample = getItemByID(individualList, \"I5\")\n",
    "# errorSample.Name = 'Brat /Pitta/' \n",
    "\n",
    "# for fm in familyList:   \n",
    "#     print(isMaleLastNames(fm, individualList))"
   ]
  },
  {
   "cell_type": "code",
   "execution_count": 22,
   "metadata": {
    "collapsed": true
   },
   "outputs": [],
   "source": [
    "individualDict=dict()"
   ]
  },
  {
   "cell_type": "code",
   "execution_count": 23,
   "metadata": {
    "collapsed": true
   },
   "outputs": [],
   "source": [
    "ID='I1'\n",
    "Birthday='1960-07-15'"
   ]
  },
  {
   "cell_type": "code",
   "execution_count": 26,
   "metadata": {},
   "outputs": [
    {
     "ename": "SyntaxError",
     "evalue": "'return' outside function (<ipython-input-26-8e4cdd96b45f>, line 3)",
     "output_type": "error",
     "traceback": [
      "\u001b[0;36m  File \u001b[0;32m\"<ipython-input-26-8e4cdd96b45f>\"\u001b[0;36m, line \u001b[0;32m3\u001b[0m\n\u001b[0;31m    return True\u001b[0m\n\u001b[0m    ^\u001b[0m\n\u001b[0;31mSyntaxError\u001b[0m\u001b[0;31m:\u001b[0m 'return' outside function\n"
     ]
    }
   ],
   "source": [
    "if ID not in individualDict:\n",
    "    individualDict[ID]=Birthday\n",
    "    return True\n",
    "else: \n",
    "    if individualDict[ID]==Birthday:\n",
    "        return False\n"
   ]
  },
  {
   "cell_type": "code",
   "execution_count": 25,
   "metadata": {},
   "outputs": [
    {
     "data": {
      "text/plain": [
       "{'I1': '1960-07-15'}"
      ]
     },
     "execution_count": 25,
     "metadata": {},
     "output_type": "execute_result"
    }
   ],
   "source": [
    "individualDict"
   ]
  },
  {
   "cell_type": "code",
   "execution_count": 9,
   "metadata": {
    "collapsed": true
   },
   "outputs": [],
   "source": [
    "def US22(IDset,ID): \n",
    "    if ID not in IDset:\n",
    "        IDset.add(ID)\n",
    "        return True\n",
    "    else:\n",
    "        return False"
   ]
  },
  {
   "cell_type": "code",
   "execution_count": 27,
   "metadata": {
    "collapsed": true
   },
   "outputs": [],
   "source": [
    "def US23(individualDict,ID,Birthday): \n",
    "    if ID not in individualDict:\n",
    "        individualDict[ID]=Birthday\n",
    "    else: \n",
    "        if individualDict[ID]==Birthday:\n",
    "            return False\n",
    "    return True\n",
    "    "
   ]
  },
  {
   "cell_type": "code",
   "execution_count": 12,
   "metadata": {},
   "outputs": [],
   "source": [
    "IDset=set()\n",
    "individualDict=dict()\n",
    "for pp in individualList:\n",
    "    if(US22(IDset,pp.ID)) != True:\n",
    "        print(\"ERROR: INDIVIDUAL: US22: {0}: Duplicate ID.\".format(pp.ID))\n",
    "        writefile.write(\"ERROR: FAMILY: US22: {0}: Duplicate ID.\".format(pp.ID)) \n",
    "    if(US23(individualDict,pp.ID,pp.Birthday)!=True):\n",
    "        print(\"ERROR: INDIVIDUAL: US23: {0}: Duplicate ID.\".format(pp.ID))\n",
    "        writefile.write(\"ERROR: FAMILY: US22: {0}: Duplicate ID.\".format(pp.ID))  \n",
    "for fm in familyList:\n",
    "    if(US22(IDset,fm.ID)) != True:\n",
    "        print(\"ERROR: FAMILY: US22: {0}: Duplicate ID.\".format(fm.ID))\n",
    "        writefile.write(\"ERROR: FAMILY: US22: {0}: Duplicate ID.\".format(fm.ID))    "
   ]
  },
  {
   "cell_type": "code",
   "execution_count": null,
   "metadata": {
    "collapsed": true
   },
   "outputs": [],
   "source": []
  }
 ],
 "metadata": {
  "kernelspec": {
   "display_name": "Python 3",
   "language": "python",
   "name": "python3"
  },
  "language_info": {
   "codemirror_mode": {
    "name": "ipython",
    "version": 3
   },
   "file_extension": ".py",
   "mimetype": "text/x-python",
   "name": "python",
   "nbconvert_exporter": "python",
   "pygments_lexer": "ipython3",
   "version": "3.6.3"
  }
 },
 "nbformat": 4,
 "nbformat_minor": 2
}
