{
 "cells": [
  {
   "cell_type": "code",
   "execution_count": null,
   "metadata": {
    "collapsed": true
   },
   "outputs": [],
   "source": [
    "import os\n",
    "from module.func.loadData import *"
   ]
  },
  {
   "cell_type": "code",
   "execution_count": null,
   "metadata": {
    "collapsed": true
   },
   "outputs": [],
   "source": [
    "# input sample\n",
    "file_name = 'final.ged'\n",
    "filePath = os.path.join(os.getcwd(), \"Sample/\" + file_name)\n",
    "\n",
    "# create list for individual and families\n",
    "individualList=[]\n",
    "familyList=[]\n",
    "\n",
    "# read file to create individual and families\n",
    "if os.path.exists(filePath):\n",
    "    readAndSaveToList(filePath, individualList, familyList)\n",
    "else:\n",
    "    print(\"File doesn't exist\")"
   ]
  },
  {
   "cell_type": "code",
   "execution_count": null,
   "metadata": {
    "collapsed": true
   },
   "outputs": [],
   "source": [
    "writeFile = True\n",
    "if writeFile:\n",
    "    outputFile=\"outputFile.txt\"\n",
    "    writefile = open(outputFile,\"w\")"
   ]
  },
  {
   "cell_type": "code",
   "execution_count": null,
   "metadata": {},
   "outputs": [],
   "source": [
    "#Making PrettyTable\n",
    "import prettytable as pt\n",
    "\n",
    "\n",
    "tb=pt.PrettyTable()\n",
    "tb.field_names=[\"ID\",\"Name\",\"Gender\",\"Birthday\",\"Age\",\"Alive\",\"Death\"\\\n",
    "                ,\"Child\",\"Spouse\"]\n",
    "for each in individualList:\n",
    "    tb.add_row([each.ID,each.Name,each.Gender,each.Birthday,each.Age,\\\n",
    "              each.Alive,each.Death,each.Child,each.Spouse])\n",
    "print(tb)\n",
    "if writeFile:\n",
    "    writefile.write(\"Individuals\\n\") \n",
    "    writefile.write(tb.get_string()) \n",
    "    writefile.write(\"\\n\") \n",
    "\n",
    "tb2=pt.PrettyTable()\n",
    "tb2.field_names=[\"ID\",\"Married\",\"Divorced\",\"Husband ID\",\"Husband Name\",\"Wife ID\",\"Wife Name\"\\\n",
    "                ,\"Children\"]\n",
    "for each in familyList:\n",
    "    tb2.add_row([each.ID,each.Married,each.Divorced,each.HusbandID,each.HusbandName,\\\n",
    "              each.WifeID,each.WifeName,each.Children])\n",
    "print(tb2)\n",
    "if writeFile:\n",
    "    writefile.write(\"Families\\n\") \n",
    "    writefile.write(tb2.get_string()) "
   ]
  },
  {
   "cell_type": "code",
   "execution_count": null,
   "metadata": {},
   "outputs": [],
   "source": [
    "# Demo for Sprint 2 \n",
    "from module.func.sprint2Func import *\n",
    "Bigamy_info = {}\n",
    "writefile.write(\"\\n\")\n",
    "writefile.write(\"\\nHere is Demo for Sprint2\\n\")      \n",
    "for fm in familyList:    \n",
    "    currHusband = getItemByID(individualList, fm.HusbandID)\n",
    "    currWife = getItemByID(individualList, fm.WifeID)\n",
    "    \n",
    "    if(isParentsNotTooOld(fm, individualList)) != True:\n",
    "        print(\"ERROR: FAMILY: US12: Detected Family Id:{0} parents not too old at  \".format(fm.ID))\n",
    "        writefile.write(\"ERROR: FAMILY: US012:{0}:  Detected Family Id:{0} parents not too old\\n\".format(fm.ID))\n",
    "    if(isMaleLastNames(fm, individualList)) != True:\n",
    "        print(\"ERROR: FAMILY: US16: Detected Family Id:{0} has the problem of male last names\".format(fm.ID))\n",
    "        writefile.write(\"ERROR: FAMILY: US16: Detected Family Id:{0}: has the problem of male last names\\n\".format(fm.ID))\n",
    "\n",
    "    if(US10(fm.Married, currHusband.Birthday)) == False:\n",
    "        print(\"ERROR: FAMILY: US10:{1}: Married on {0} before he was 14\".format(fm.Married,currHusband.ID))\n",
    "        writefile.write(\"ERROR: FAMILY: US10:{1}: Married on {0} before he was 14\\n\".format(fm.Married,currHusband.ID))\n",
    "    if(US10(fm.Married, currWife.Birthday)) ==False:\n",
    "        print(\"ERROR: FAMILY: US10:{1}: Married on {0} before she was 14\".format(fm.Married,currWife.ID))\n",
    "        writefile.write(\"ERROR: FAMILY: US10:{1}: Married on {0} before she was 14\\n\".format(fm.Married,currWife.ID))\n",
    "    if(US15(fm.Children)) != True:\n",
    "        print(\"ERROR: FAMILY: US15:{0}: Siblings not fewer than 15.\".format(fm.ID))\n",
    "        writefile.write(\"ERROR: FAMILY: US15:{0}: Siblings not fewer than 15.\\n\".format(fm.ID))\n",
    "    #inf is for US11\n",
    "    inf = [fm.Married, fm.Divorced, fm.HusbandID, fm.WifeID]\n",
    "    Bigamy_info[fm.ID] = inf\n",
    "    #US13 get return list and print out if the list[0] == False\n",
    "    for US13_Result in US13_Sibling_Spacing(fm, individualList):\n",
    "        if(US13_Result[0] != True):\n",
    "            childA = US13_Result[1]\n",
    "            childB = US13_Result[2]\n",
    "            print(\"ERROR: FAMILY: US13: {0}: Siblings Spacing between {1} and {2} is Wrong!\".format(fm.ID, childA, childB))\n",
    "            writefile.write(\"ERROR: FAMILY: US13: {0}: Siblings Spacing between {1} and {2} is Wrong!\\n\".format(fm.ID, childA, childB))\n",
    "\n",
    "for US11_result in US11_noBigamy(Bigamy_info):\n",
    "    r = US11_result\n",
    "    if r[0] != True:\n",
    "        #print(r)\n",
    "        earlier_fmID = r[1]\n",
    "        later_fmID = r[2]\n",
    "        person = r[3]\n",
    "        print(\"ERROR: FAMILY: US11: {0} and {1}: individual ID: {2} Bigamy!\".format(earlier_fmID, later_fmID, person))\n",
    "        writefile.write(\"ERROR: FAMILY: US11: {0} and {1}: individual ID: {2} Bigamy!\\n\".format(earlier_fmID, later_fmID, person))"
   ]
  },
  {
   "cell_type": "code",
   "execution_count": null,
   "metadata": {
    "collapsed": true
   },
   "outputs": [],
   "source": [
    "if writeFile:\n",
    "    writefile.close()"
   ]
  },
  {
   "cell_type": "code",
   "execution_count": null,
   "metadata": {
    "collapsed": true
   },
   "outputs": [],
   "source": []
  }
 ],
 "metadata": {
  "kernelspec": {
   "display_name": "Python 3",
   "language": "python",
   "name": "python3"
  },
  "language_info": {
   "codemirror_mode": {
    "name": "ipython",
    "version": 3
   },
   "file_extension": ".py",
   "mimetype": "text/x-python",
   "name": "python",
   "nbconvert_exporter": "python",
   "pygments_lexer": "ipython3",
   "version": "3.6.3"
  }
 },
 "nbformat": 4,
 "nbformat_minor": 2
}
