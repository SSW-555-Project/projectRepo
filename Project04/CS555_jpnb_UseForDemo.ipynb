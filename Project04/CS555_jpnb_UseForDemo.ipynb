{
 "cells": [
  {
   "cell_type": "code",
   "execution_count": null,
   "metadata": {
    "collapsed": true
   },
   "outputs": [],
   "source": [
    "import os\n",
    "from module.func.loadData import *"
   ]
  },
  {
   "cell_type": "code",
   "execution_count": null,
   "metadata": {
    "collapsed": true
   },
   "outputs": [],
   "source": [
    "# input sample\n",
    "file_name = 'oct29.ged'\n",
    "filePath = os.path.join(os.getcwd(), \"Sample/\" + file_name)\n",
    "\n",
    "# create list for individual and families\n",
    "individualList=[]\n",
    "familyList=[]\n",
    "\n",
    "# read file to create individual and families\n",
    "if os.path.exists(filePath):\n",
    "    readAndSaveToList(filePath, individualList, familyList)\n",
    "else:\n",
    "    print(\"File doesn't exist\")"
   ]
  },
  {
   "cell_type": "code",
   "execution_count": null,
   "metadata": {
    "collapsed": true
   },
   "outputs": [],
   "source": [
    "writeFile = True\n",
    "if writeFile:\n",
    "    outputFile=\"outputFile.txt\"\n",
    "    writefile = open(outputFile,\"w\")"
   ]
  },
  {
   "cell_type": "code",
   "execution_count": null,
   "metadata": {
    "scrolled": true
   },
   "outputs": [],
   "source": [
    "#Making PrettyTable\n",
    "import prettytable as pt\n",
    "\n",
    "\n",
    "tb=pt.PrettyTable()\n",
    "tb.field_names=[\"ID\",\"Name\",\"Gender\",\"Birthday\",\"Age\",\"Alive\",\"Death\"\\\n",
    "                ,\"Child\",\"Spouse\"]\n",
    "for each in individualList:\n",
    "    tb.add_row([each.ID,each.Name,each.Gender,each.Birthday,each.Age,\\\n",
    "              each.Alive,each.Death,each.Child,each.Spouse])\n",
    "print(tb)\n",
    "if writeFile:\n",
    "    writefile.write(\"Individuals\\n\") \n",
    "    writefile.write(tb.get_string()) \n",
    "    writefile.write(\"\\n\") \n",
    "\n",
    "tb2=pt.PrettyTable()\n",
    "tb2.field_names=[\"ID\",\"Married\",\"Divorced\",\"Husband ID\",\"Husband Name\",\"Wife ID\",\"Wife Name\"\\\n",
    "                ,\"Children\"]\n",
    "for each in familyList:\n",
    "    tb2.add_row([each.ID,each.Married,each.Divorced,each.HusbandID,each.HusbandName,\\\n",
    "              each.WifeID,each.WifeName,each.Children])\n",
    "print(tb2)\n",
    "if writeFile:\n",
    "    writefile.write(\"Families\\n\") \n",
    "    writefile.write(tb2.get_string()) "
   ]
  },
  {
   "cell_type": "code",
   "execution_count": null,
   "metadata": {
    "collapsed": true
   },
   "outputs": [],
   "source": [
    "from module.func.BasicClass import *\n",
    "from module.func.sprint1Func import *\n",
    "from module.func.sprint2Func import *"
   ]
  },
  {
   "cell_type": "code",
   "execution_count": null,
   "metadata": {},
   "outputs": [],
   "source": [
    "writefile.write(\"\\n\")\n",
    "writefile.write(\"\\nHere is Demo for Sprint1\\n\")   \n",
    "# checking all individual (User Story 03 Birth before death)\n",
    "for pp in individualList:\n",
    "    if(isDateBeforeCur(pp.Birthday)) != True:\n",
    "        print(\"ERROR: INDIVIDUAL: US01: Date: {0} is not before current time.\".format(pp.Birthday))\n",
    "        writefile.write(\"ERROR: INDIVIDUAL: US01: Date: {0} is not before current time.\\n\".format(pp.Birthday)) \n",
    "    if(isDateBeforeCur(pp.Death)) != True:\n",
    "        print(\"ERROR: INDIVIDUAL: US01: Date: {0} is not before current time.\".format(pp.Death))\n",
    "        writefile.write(\"ERROR: INDIVIDUAL: US01: Date: {0} is not before current time.\\n\".format(pp.Death))     \n",
    "    if(isAgeLThen150(pp)) != True:\n",
    "        print(\"ERROR: INDIVIDUAL: US07: {0} age {1} is over 150!\".format(pp.ID, pp.Age))\n",
    "        writefile.write(\"ERROR: INDIVIDUAL: US07: {0} age {1} is over 150!\\n\".format(pp.ID, pp.Age))\n",
    "    if(isBirthBeforeDeath(pp.Birthday, pp.Death)) != True:\n",
    "        print(\"ERROR: INDIVIDUAL: US03: {0}: {1} Birth before death {2}\".format(pp.ID, pp.Birthday, pp.Death))\n",
    "        writefile.write(\"ERROR: INDIVIDUAL: US03: {0}: {1} Birth before death {2}\\n\".format(pp.ID, pp.Birthday, pp.Death)) \n",
    "# checking all family (User Story 05 Marriage before death)\n",
    "for fm in familyList:    \n",
    "    currHusband = getItemByID(individualList, fm.HusbandID)\n",
    "    currWife = getItemByID(individualList, fm.WifeID)\n",
    "    if(isDateBeforeCur(fm.Married)) != True:\n",
    "        print(\"ERROR: INDIVIDUAL: US01: Date: {0} is not before current time.\".format(fm.Married))\n",
    "        writefile.write(\"ERROR: INDIVIDUAL: US01: Date: {0} is not before current time.\\n\".format(fm.Married)) \n",
    "    if(isDateBeforeCur(fm.Divorced)) != True:\n",
    "        print(\"ERROR: INDIVIDUAL: US01: Date: {0} is not before current time.\".format(fm.Divorced))\n",
    "        writefile.write(\"ERROR: INDIVIDUAL: US01: Date: {0} is not before current time.\\n\".format(fm.Divorced))       \n",
    "\n",
    "            \n",
    "    if(US08(individualList,fm.ID,fm.Children,fm.Married,fm.Divorced,fm.Children)!=True and\\\n",
    "       US08(individualList,fm.ID,fm.Children,fm.Married,fm.Divorced,fm.Children)!=None):\n",
    "        print(US08(individualList,fm.ID,fm.Children,fm.Married,fm.Divorced,fm.Children))\n",
    "        writefile.write(US08(individualList,fm.ID,fm.Children,fm.Married,fm.Divorced,fm.Children)+\"\\n\")\n",
    "    \n",
    "        \n",
    "for fm in familyList:    \n",
    "    currHusband = getItemByID(individualList, fm.HusbandID)\n",
    "    currWife = getItemByID(individualList, fm.WifeID)\n",
    "    \n",
    "    if(isDivorceBeforeDeath(fm.Divorced,currHusband.Death)) != True:\n",
    "        print(\"ERROR: FAMILY: US06: {0}: {1} Divorce after death {2}\".format(currHusband.ID, fm.Divorced, currHusband.Death))\n",
    "        writefile.write(\"ERROR: FAMILY: US06: {0}: {1} Divorce after death {2}\\n\".format(currHusband.ID, fm.Divorced, currHusband.Death))\n",
    "    if(isDivorceBeforeDeath(fm.Divorced,currWife.Death)) != True:\n",
    "        print(\"ERROR: FAMILY: US06: {0}: {1} Divorce after death {2}\".format(currWife.ID, fm.Divorced, currWife.Death))\n",
    "        writefile.write(\"ERROR: FAMILY: US06: {0}: {1} Divorce after death {2}\\n\".format(currWife.ID, fm.Divorced, currWife.Death))\n",
    "    if(isbirthBFmarried(fm.ID, fm.Married, currHusband.Birthday)) != True:\n",
    "        print(f\"ERROR: FAMILY: US02: {fm.ID}: {currHusband.ID} Birth day {currHusband.Birthday} after Married day: {fm.Married}\")\n",
    "    if(isbirthBFmarried(fm.ID, fm.Married, currWife.Birthday)) != True:\n",
    "        print(\"ERROR: FAMILY: US02: {0}: {1} Birth day {2} after Married day: {3}\".format(fm.ID, currWife.ID, currWife.Birthday, fm.Married))\n",
    "        writefile.write(\"ERROR: FAMILY: US02: {0}: {1} Birth day {2} after Married day: {3}\\n\".format(fm.ID, currWife.ID, currWife.Birthday, fm.Married))\n",
    "    if(US04(fm.ID,fm.Married,fm.Divorced)!=True):\n",
    "        print(\"ERROR: FAMILY: US04: {0}: Marriage {1} after divorce {2}\".format( fm.ID,fm.Married,fm.Divorced))\n",
    "        writefile.write(\"ERROR: FAMILY: US04: {0}: Marriage {1} after divorce {2}\\n\".format( fm.ID,fm.Married,fm.Divorced))\n",
    "    if(isMarriageBeforeDeath(fm.Married, currHusband.Death)) != True:\n",
    "        print(\"ERROR: FAMILY: US05:{0}: {1} Marriage before death {2}\".format(currHusband.ID, fm.Married, currHusband.Death))\n",
    "        writefile.write(\"ERROR: FAMILY: US05: {0}: {1} Marriage before death {2}\\n\".format(currHusband.ID, fm.Married, currHusband.Death))\n",
    "    if(isMarriageBeforeDeath(fm.Married, currWife.Death)) != True:\n",
    "        print(\"ERROR: FAMILY: US05: {0}: {2} Marriage before death {2}\".format(currWife.ID, fm.Married, currWife.Death))\n",
    "        writefile.write(\"ERROR: FAMILY: US05: {0}: {2} Marriage before death {2}\\n\".format(currWife.ID, fm.Married, currWife.Death))\n",
    "    "
   ]
  },
  {
   "cell_type": "code",
   "execution_count": null,
   "metadata": {},
   "outputs": [],
   "source": [
    "# Demo for Sprint 2 \n",
    "from module.func.sprint2Func import *\n",
    "Bigamy_info = {}\n",
    "writefile.write(\"\\n\")\n",
    "writefile.write(\"\\nHere is Demo for Sprint2\\n\")      \n",
    "for fm in familyList:    \n",
    "    currHusband = getItemByID(individualList, fm.HusbandID)\n",
    "    currWife = getItemByID(individualList, fm.WifeID)\n",
    "    \n",
    "    if(isParentsNotTooOld(fm, individualList)) != True:\n",
    "        print(\"ERROR: FAMILY: US12: Detected Family Id:{0} parents not too old at  \".format(fm.ID))\n",
    "        writefile.write(\"ERROR: FAMILY: US12: {0}:  Detected Family Id:{0} parents not too old\\n\".format(fm.ID))\n",
    "    if(isMaleLastNames(fm, individualList)) != True:\n",
    "        print(\"ERROR: FAMILY: US16: Detected Family Id:{0} has the problem of male last names\".format(fm.ID))\n",
    "        writefile.write(\"ERROR: FAMILY: US16: Detected Family Id:{0}: has the problem of male last names\\n\".format(fm.ID))\n",
    "\n",
    "    if(US10(fm.Married, currHusband.Birthday)) == False:\n",
    "        print(\"ERROR: FAMILY: US10: {1}: Married on {0} before he was 14\".format(fm.Married,currHusband.ID))\n",
    "        writefile.write(\"ERROR: FAMILY: US10: {1}: Married on {0} before he was 14\\n\".format(fm.Married,currHusband.ID))\n",
    "    if(US10(fm.Married, currWife.Birthday)) ==False:\n",
    "        print(\"ERROR: FAMILY: US10: {1}: Married on {0} before she was 14\".format(fm.Married,currWife.ID))\n",
    "        writefile.write(\"ERROR: FAMILY: US10: {1}: Married on {0} before she was 14\\n\".format(fm.Married,currWife.ID))\n",
    "    if(US15(fm.Children)) != True:\n",
    "        print(\"ERROR: FAMILY: US15: {0}: Siblings not fewer than 15.\".format(fm.ID))\n",
    "        writefile.write(\"ERROR: FAMILY: US15: {0}: Siblings not fewer than 15.\\n\".format(fm.ID))\n",
    "    #inf is for US11\n",
    "    inf = [fm.Married, fm.Divorced, fm.HusbandID, fm.WifeID]\n",
    "    Bigamy_info[fm.ID] = inf\n",
    "    #US13 get return list and print out if the list[0] == False\n",
    "    for US13_Result in US13_Sibling_Spacing(fm, individualList):\n",
    "        if(US13_Result[0] != True):\n",
    "            childA = US13_Result[1]\n",
    "            childB = US13_Result[2]\n",
    "            print(\"ERROR: FAMILY: US13: {0}: Siblings Spacing between {1} and {2} is Wrong!\".format(fm.ID, childA, childB))\n",
    "            writefile.write(\"ERROR: FAMILY: US13: {0}: Siblings Spacing between {1} and {2} is Wrong!\\n\".format(fm.ID, childA, childB))\n",
    "    \n",
    "    a,b=US14(fm.Children, fm.ID, individualList)\n",
    "    if a==False:\n",
    "        print(b)\n",
    "        writefile.write(b+\"\\n\")\n",
    "    \n",
    "    \n",
    "    \n",
    "for US11_result in US11_noBigamy(Bigamy_info):\n",
    "    r = US11_result\n",
    "    if r[0] != True:\n",
    "        #print(r)\n",
    "        earlier_fmID = r[1]\n",
    "        later_fmID = r[2]\n",
    "        person = r[3]\n",
    "        print(\"ERROR: FAMILY: US11: {0} and {1}: INDIVIDUAL ID: {2} Bigamy!\".format(earlier_fmID, later_fmID, person))\n",
    "        writefile.write(\"ERROR: FAMILY: US11: {0} and {1}: INDIVIDUAL ID: {2} Bigamy!\\n\".format(earlier_fmID, later_fmID, person))\n",
    "        \n",
    "for fm in familyList:  \n",
    "    c,d=US09(fm.HusbandID, fm.WifeID, fm.Children, individualList)\n",
    "    if c==False:\n",
    "        s=\"\\n\"\n",
    "        print(d+\"\\n\")\n",
    "        writefile.write(d)        \n",
    "        "
   ]
  },
  {
   "cell_type": "code",
   "execution_count": null,
   "metadata": {
    "scrolled": true
   },
   "outputs": [],
   "source": [
    "# Demo for Sprint 3 \n",
    "from module.func.sprint3Func import *\n",
    "writefile.write(\"\\n\")\n",
    "writefile.write(\"\\nHere is Demo for Sprint3\\n\")     \n",
    "IDset=set()\n",
    "individualDict=dict()\n",
    "for pp in individualList:\n",
    "    if(US22(IDset,pp.ID)) != True:\n",
    "        print(\"ERROR: INDIVIDUAL: US22: {0}: Duplicate individual ID.\".format(pp.ID))\n",
    "        writefile.write(\"ERROR: INDIVIDUAL: US22: {0}: Duplicate individual ID.\\n\".format(pp.ID)) \n",
    "    if(US23(individualDict,pp.ID,pp.Birthday)!=True):\n",
    "        print(\"ERROR: INDIVIDUAL: US23: {0}: No more than one individual with the same name and birth date should appear.\".format(pp.ID))\n",
    "        writefile.write(\"ERROR: INDIVIDUAL: US22: {0}: No more than one individual with the same name and birth date should appear.\\n\".format(pp.ID)) \n",
    "for fm in familyList:\n",
    "    us20a,us20b=US20(fm.WifeID, fm.HusbandID, familyList)\n",
    "    if us20a==False:\n",
    "        print(us20b)\n",
    "        writefile.write(us20b)\n",
    "    if(US22(IDset,fm.ID)) != True:\n",
    "        print(\"ERROR: FAMILY: US22: {0}: Duplicate family ID.\".format(fm.ID))\n",
    "        writefile.write(\"ERROR: FAMILY: US22: {0}: Duplicate family ID.\\n\".format(fm.ID))\n",
    "for fm in familyList: \n",
    "    if(US18_SiblingsNotMarry(fm, familyList, individualList)) != True:\n",
    "        print(\"ERROR: FAMILY: US18: {0} INDIVIDUAL: {1} and {2} are siblings, they can not marry\".format(fm.ID, fm.HusbandID, fm.WifeID))\n",
    "        writefile.write(\"ERROR: FAMILY: US18: {0} INDIVIDUAL: {1} and {2} are siblings, they can not marry\\n\".format(fm.ID, fm.HusbandID, fm.WifeID))\n",
    "    \n",
    "    US19_Result = US19_FirstCousinsNotMarry(fm, familyList, individualList)\n",
    "    if(US19_Result) != True:\n",
    "        familyResult = US19_Result[1]\n",
    "        print(\"ERROR: FAMILY: US19: {0} INDIVIDUAL: {1} and {2} are cousins as their parents are from family ID: {2}\".format(fm.ID, fm.HusbandID, fm.WifeID, familyResult))       \n",
    "        writefile.write(\"ERROR: FAMILY: US19: {0} INDIVIDUAL: {1} and {2} are cousins as their parents are from family ID: {2}\\n\".format(fm.ID, fm.HusbandID, fm.WifeID, familyResult))\n",
    "for fm in familyList:\n",
    "    us24a, us24b =US24(fm.WifeName, fm.HusbandName, fm.Married, fm.ID, familyList)\n",
    "    if us24a==False:\n",
    "        print(us24b)\n",
    "        writefile.write(us24b+\"\\n\")\n",
    "    # Demo for User Story 21\n",
    "    result, msg = IsCorrectGender(fm.WifeID,fm.HusbandID, individualList)\n",
    "    if not result: \n",
    "        print(msg, end='')\n",
    "        writefile.write(msg)\n",
    "\n",
    "# Demo for User Story 17\n",
    "res, msg = Is_Marriages_descendants(familyList)\n",
    "if not res:\n",
    "    print(msg)\n",
    "    writefile.write(msg)"
   ]
  },
  {
   "cell_type": "code",
   "execution_count": null,
   "metadata": {
    "collapsed": true
   },
   "outputs": [],
   "source": [
    "if writeFile:\n",
    "    writefile.close()"
   ]
  },
  {
   "cell_type": "code",
   "execution_count": null,
   "metadata": {
    "collapsed": true
   },
   "outputs": [],
   "source": []
  },
  {
   "cell_type": "code",
   "execution_count": null,
   "metadata": {
    "collapsed": true
   },
   "outputs": [],
   "source": []
  },
  {
   "cell_type": "code",
   "execution_count": null,
   "metadata": {
    "collapsed": true
   },
   "outputs": [],
   "source": []
  },
  {
   "cell_type": "code",
   "execution_count": null,
   "metadata": {
    "collapsed": true
   },
   "outputs": [],
   "source": []
  }
 ],
 "metadata": {
  "kernelspec": {
   "display_name": "Python 3",
   "language": "python",
   "name": "python3"
  },
  "language_info": {
   "codemirror_mode": {
    "name": "ipython",
    "version": 3
   },
   "file_extension": ".py",
   "mimetype": "text/x-python",
   "name": "python",
   "nbconvert_exporter": "python",
   "pygments_lexer": "ipython3",
   "version": "3.6.3"
  }
 },
 "nbformat": 4,
 "nbformat_minor": 2
}
