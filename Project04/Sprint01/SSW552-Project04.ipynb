{
 "cells": [
  {
   "cell_type": "code",
   "execution_count": 1,
   "metadata": {},
   "outputs": [],
   "source": [
    "from classModule.BasicClass import *\n",
    "from classModule.ClassFunc import * \n",
    "from classModule.sprint1Func import *\n",
    "import os\n",
    "import time\n",
    "import datetime\n",
    "from datetime import date\n",
    "import prettytable as pt\n",
    "\n",
    "valid_tags = {0:[\"INDI\",\"FAM\",\"HEAD\",\"TRLR\",\"NOTE\"],\\\n",
    "            1:[\"NAME\",\"SEX\",\"BIRT\",\"DEAT\",\"FAMC\",\"FAMS\",\"MARR\",\"HUSB\",\"WIFE\",\"CHIL\",\"DIV\"]\\\n",
    "         ,2:\"DATE\"}\n",
    "\n",
    "def monthToNum(shortMonth):\n",
    "    return{\n",
    "            'JAN' : 1,\n",
    "            'FEB' : 2,\n",
    "            'MAR' : 3,\n",
    "            'APR' : 4,\n",
    "            'MAY' : 5,\n",
    "            'JUN' : 6,\n",
    "            'JUL' : 7,\n",
    "            'AUG' : 8,\n",
    "            'SEP' : 9, \n",
    "            'OCT' : 10,\n",
    "            'NOV' : 11,\n",
    "            'DEC' : 12\n",
    "    }[shortMonth]\n",
    "\n",
    "def readAndSaveToList(filePath, List, List2):\n",
    "    \n",
    "    #read gedcom file\n",
    "    print(filePath)\n",
    "    input_ged = open(filePath, \"r\") \n",
    "   # saveFile=\"output_\"+filename+\".txt\"\n",
    "   # writeFile = open(saveFile, \"w\")\n",
    "    #set flags\n",
    "    flag_Birth=False\n",
    "    flag_Death=False\n",
    "    flag_Married=False\n",
    "    flag_Divorced=False\n",
    "    #read each line to input\n",
    "\n",
    "    for each_input in input_ged:\n",
    "        # Ensure line is not empty or comments\n",
    "        if len(each_input)>0 and each_input[:2]!=\"--\":\n",
    "            each_input=each_input.rstrip(\"\\n\")\n",
    "          #  print(each_input)\n",
    "            each_input_split=each_input.split()\n",
    "            # Ensure there're level and tag\n",
    "            if len(each_input_split)>=2:\n",
    "                level,tag=int(each_input_split[0]),each_input_split[1]\n",
    "                # Ensure input is valid\n",
    "                word_count=2+len(tag)+1\n",
    "                # Ensure there's desc to process\n",
    "                if len(each_input_split)>=3:\n",
    "                    desc=each_input_split[2]\n",
    "                    # Detect New Individual and create new class\n",
    "                    if desc==\"INDI\":\n",
    "                        ID=tag[0:3]\n",
    "                        p1=Individuals(ID)\n",
    "                        List.append(p1)\n",
    "                    # Detect New Family and create new class\n",
    "                    if desc==\"FAM\":\n",
    "                        ID=tag\n",
    "                        f1=Families(ID)\n",
    "                        List2.append(f1)    \n",
    "                    if tag==\"SEX\":\n",
    "                        SEX=desc  \n",
    "                        p1.Gender=SEX    \n",
    "                    if tag==\"NAME\":\n",
    "                        NAME=each_input[word_count:].strip()\n",
    "                        p1.Name=NAME\n",
    "                    if flag_Birth==True and tag==\"DATE\":\n",
    "                        B_DAY=int(desc)\n",
    "                        B_MONTH=int(monthToNum(each_input_split[3]))\n",
    "                        B_YEAR=int(each_input_split[4])\n",
    "                        \n",
    "                        Birthday=datetime.date(B_YEAR,B_MONTH,B_DAY)\n",
    "                        p1.Age=int ((date.today()-Birthday)/datetime.timedelta (days=1)/365)\n",
    "                        p1.Birthday=str(Birthday)\n",
    "                    \n",
    "                        flag_Birth=False   \n",
    "                    if flag_Death==True and tag==\"DATE\":\n",
    "                        D_DAY=int(desc)\n",
    "                        D_MONTH=int(monthToNum(each_input_split[3]))\n",
    "                        D_YEAR=int(each_input_split[4])\n",
    "                        \n",
    "                        Death=datetime.date(D_YEAR,D_MONTH,D_DAY)\n",
    "                        p1.Age=int((Death-Birthday)/datetime.timedelta (days=1)/365)\n",
    "                        p1.Death=str(Death)\n",
    "\n",
    "                        flag_Death=False\n",
    "                    if flag_Married==True and tag==\"DATE\":\n",
    "                        M_DAY=int(desc)\n",
    "                        M_MONTH=int(monthToNum(each_input_split[3]))\n",
    "                        M_YEAR=int(each_input_split[4]) \n",
    "                        MarriedDay=datetime.date(M_YEAR,M_MONTH,M_DAY)\n",
    "                        f1.Married=str(MarriedDay)\n",
    "                        \n",
    "                        flag_Married=False\n",
    "                    if flag_Divorced==True and tag==\"DATE\":\n",
    "                        Div_DAY=int(desc)\n",
    "                        Div_MONTH=int(monthToNum(each_input_split[3]))\n",
    "                        Div_YEAR=int(each_input_split[4]) \n",
    "                        DivorcedDay=datetime.date(Div_YEAR,Div_MONTH,Div_DAY)\n",
    "                        f1.Divorced=str(DivorcedDay)\n",
    "                        \n",
    "                        flag_Divorced=False\n",
    "                    if tag==\"FAMS\":\n",
    "                        Spouse=desc\n",
    "                        p1.Spouse=Spouse\n",
    "                    if tag==\"FAMC\":\n",
    "                        Child=desc\n",
    "                        p1.Child=Child\n",
    "                    if tag==\"HUSB\":\n",
    "                        Husband=desc\n",
    "                        f1.HusbandID=Husband\n",
    "                        for each in List:\n",
    "                            if each.ID==f1.HusbandID: \n",
    "                                f1.HusbandName=each.Name      \n",
    "                    if tag==\"WIFE\":\n",
    "                        Wife=desc\n",
    "                        f1.WifeID=Wife\n",
    "                        for each in List:\n",
    "                            if each.ID==f1.WifeID: \n",
    "                                f1.WifeName=each.Name\n",
    "                    if tag==\"CHIL\":\n",
    "                        Children=desc\n",
    "                        f1.Children.append(Children)\n",
    "                elif len(each_input_split)>=2:\n",
    "                    if tag==\"BIRT\":\n",
    "                        flag_Birth=True\n",
    "                        p1.Alive=\"True\"\n",
    "                    if tag==\"DEAT\":\n",
    "                        flag_Death=True\n",
    "                        p1.Alive=\"False\"\n",
    "                    if tag==\"MARR\":\n",
    "                        flag_Married=True\n",
    "                    if tag==\"DIV\":\n",
    "                        flag_Divorced=True\n",
    "                        "
   ]
  },
  {
   "cell_type": "code",
   "execution_count": 2,
   "metadata": {
    "scrolled": true
   },
   "outputs": [
    {
     "name": "stdout",
     "output_type": "stream",
     "text": [
      "/Users/darienyang/Documents/2018FALL/SSW-555/repo/projectRepo/Project04/Sprint01/Sample/UserStory.ged\n"
     ]
    }
   ],
   "source": [
    "# input sample\n",
    "file_name = 'UserStory.ged'\n",
    "filePath = os.path.join(os.getcwd(), \"Sample/\" + file_name)\n",
    "\n",
    "# create list for individual and families\n",
    "individualList=[]\n",
    "familyList=[]\n",
    "\n",
    "# read file to create individual and families\n",
    "if os.path.exists(filePath):\n",
    "    readAndSaveToList(filePath, individualList, familyList)\n",
    "else:\n",
    "    print(\"File doesn't exist\")"
   ]
  },
  {
   "cell_type": "code",
   "execution_count": 3,
   "metadata": {
    "collapsed": true
   },
   "outputs": [],
   "source": [
    "# sort list\n",
    "individualList = OrderById(individualList)\n",
    "\n",
    "familyList = OrderById(familyList)"
   ]
  },
  {
   "cell_type": "code",
   "execution_count": 4,
   "metadata": {
    "scrolled": false
   },
   "outputs": [
    {
     "name": "stdout",
     "output_type": "stream",
     "text": [
      "+-----+------------------+--------+------------+-----+-------+------------+-------+--------+\n",
      "|  ID |       Name       | Gender |  Birthday  | Age | Alive |   Death    | Child | Spouse |\n",
      "+-----+------------------+--------+------------+-----+-------+------------+-------+--------+\n",
      "|  I1 |   Joe /Smith/    |   M    | 1960-07-15 |  53 | False | 2013-12-31 |  None |   F1   |\n",
      "| I10 | Derrick /Smith/  |   M    | 1986-11-05 |  31 |  True |     NA     |   F1  |   F5   |\n",
      "| I11 |   Death /Pitt/   |   F    | 2020-07-06 | -20 | False | 2000-02-07 |   F3  |   NA   |\n",
      "| I12 |    Ann /Hong/    |   F    | 2006-04-03 |  12 |  True |     NA     |  None |   F5   |\n",
      "|  I2 | Jennifer /Smith/ |   F    | 1960-09-23 |  58 |  True |     NA     |   F2  |   F1   |\n",
      "|  I3 |   Dick /Smith/   |   M    | 1981-02-13 |  37 |  True |     NA     |   F1  |   NA   |\n",
      "|  I4 |   Jane /Smith/   |   F    | 1983-06-02 |  35 |  True |     NA     |   F1  |   NA   |\n",
      "|  I5 |   Brat /Pitt/    |   M    | 1930-01-01 |  88 |  True |     NA     |   F4  |   F3   |\n",
      "|  I6 |   Becky /Pitt/   |   F    | 1930-01-23 |  89 | False | 2019-04-01 |  None |   F2   |\n",
      "|  I7 |    Fa /Pitt/     |   M    | 1800-03-09 | 218 |  True |     NA     |  None |   F4   |\n",
      "|  I8 |    Mo /Pitt/     |   F    | 1950-03-06 |  68 |  True |     NA     |  None |   F4   |\n",
      "|  I9 |  Britney /Liu/   |   F    | 1998-04-09 |  18 | False | 2016-09-04 |  None |   F3   |\n",
      "+-----+------------------+--------+------------+-----+-------+------------+-------+--------+\n",
      "+----+------------+------------+------------+-----------------+---------+------------------+---------------------+\n",
      "| ID |  Married   |  Divorced  | Husband ID |   Husband Name  | Wife ID |    Wife Name     |       Children      |\n",
      "+----+------------+------------+------------+-----------------+---------+------------------+---------------------+\n",
      "| F1 | 1980-04-11 | 1985-04-07 |     I1     |   Joe /Smith/   |    I2   | Jennifer /Smith/ | ['I3', 'I4', 'I10'] |\n",
      "| F2 | 2017-04-05 | 2019-05-01 |     I5     |   Brat /Pitt/   |    I6   |   Becky /Pitt/   |        ['I2']       |\n",
      "| F3 | 2014-10-08 | 2016-09-04 |     I5     |   Brat /Pitt/   |    I9   |  Britney /Liu/   |       ['I11']       |\n",
      "| F4 | 1940-04-04 |     NA     |     I7     |    Fa /Pitt/    |    I8   |    Mo /Pitt/     |        ['I5']       |\n",
      "| F5 | 2007-03-02 |     NA     |    I10     | Derrick /Smith/ |   I12   |    Ann /Hong/    |          []         |\n",
      "+----+------------+------------+------------+-----------------+---------+------------------+---------------------+\n"
     ]
    }
   ],
   "source": [
    "#Making PrettyTable\n",
    "\n",
    "tb=pt.PrettyTable()\n",
    "tb.field_names=[\"ID\",\"Name\",\"Gender\",\"Birthday\",\"Age\",\"Alive\",\"Death\"\\\n",
    "                ,\"Child\",\"Spouse\"]\n",
    "for each in individualList:\n",
    "    tb.add_row([each.ID,each.Name,each.Gender,each.Birthday,each.Age,\\\n",
    "              each.Alive,each.Death,each.Child,each.Spouse])\n",
    "print(tb)\n",
    "\n",
    "tb2=pt.PrettyTable()\n",
    "tb2.field_names=[\"ID\",\"Married\",\"Divorced\",\"Husband ID\",\"Husband Name\",\"Wife ID\",\"Wife Name\"\\\n",
    "                ,\"Children\"]\n",
    "for each in familyList:\n",
    "    tb2.add_row([each.ID,each.Married,each.Divorced,each.HusbandID,each.HusbandName,\\\n",
    "              each.WifeID,each.WifeName,each.Children])\n",
    "print(tb2)"
   ]
  },
  {
   "cell_type": "code",
   "execution_count": 5,
   "metadata": {},
   "outputs": [
    {
     "name": "stdout",
     "output_type": "stream",
     "text": [
      "ERROR: US01: Date is not before current time.\n",
      "ERROR: US01: Date is not before current time.\n",
      "ERROR: US01: Date is not before current time.\n"
     ]
    }
   ],
   "source": [
    "from classModule.sprint1Func import *\n",
    "\n",
    "\n",
    "# checking all individual (User Story 03 Birth before death)\n",
    "for pp in individualList:\n",
    "    isDateBeforeCur(pp.Birthday)\n",
    "    isDateBeforeCur(pp.Death)\n",
    "    isBirthBeforeDeath(pp.Birthday, pp.Death)\n",
    "    \n",
    "# checking all family (User Story 05 Marriage before death)\n",
    "for fm in familyList:    \n",
    "    currHusband = getItemByID(individualList, fm.HusbandID)\n",
    "    currWife = getItemByID(individualList, fm.WifeID)\n",
    "    isDateBeforeCur(fm.Married)\n",
    "    isDateBeforeCur(fm.Divorced)\n",
    "    isMarriageBeforeDeath(fm.Married, currHusband.Death)\n",
    "    isMarriageBeforeDeath(fm.Married, currWife.Death)\n"
   ]
  },
  {
   "cell_type": "code",
   "execution_count": 6,
   "metadata": {
    "scrolled": true
   },
   "outputs": [
    {
     "name": "stdout",
     "output_type": "stream",
     "text": [
      "ERROR: US01: Date is not before current time.\n"
     ]
    }
   ],
   "source": [
    "isDateBeforeCur(\"2019-04-03\")"
   ]
  },
  {
   "cell_type": "code",
   "execution_count": 7,
   "metadata": {},
   "outputs": [
    {
     "name": "stdout",
     "output_type": "stream",
     "text": [
      "ERROR: FAMILY: US06 : Divorced on 2016-05-09 after death on 2015-05-09\n"
     ]
    }
   ],
   "source": [
    "isValidDivorce(\"2016-05-09\",\"2015-05-09\")"
   ]
  },
  {
   "cell_type": "code",
   "execution_count": null,
   "metadata": {
    "collapsed": true
   },
   "outputs": [],
   "source": []
  }
 ],
 "metadata": {
  "kernelspec": {
   "display_name": "Python 3",
   "language": "python",
   "name": "python3"
  },
  "language_info": {
   "codemirror_mode": {
    "name": "ipython",
    "version": 3
   },
   "file_extension": ".py",
   "mimetype": "text/x-python",
   "name": "python",
   "nbconvert_exporter": "python",
   "pygments_lexer": "ipython3",
   "version": "3.6.3"
  }
 },
 "nbformat": 4,
 "nbformat_minor": 2
}
