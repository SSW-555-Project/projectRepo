{
 "cells": [
  {
   "cell_type": "code",
   "execution_count": 62,
   "metadata": {},
   "outputs": [],
   "source": [
    "from classModule.otcls import * \n",
    "import time\n",
    "import datetime\n",
    "from datetime import date\n",
    "\n",
    "valid_tags = {0:[\"INDI\",\"FAM\",\"HEAD\",\"TRLR\",\"NOTE\"],\\\n",
    "            1:[\"NAME\",\"SEX\",\"BIRT\",\"DEAT\",\"FAMC\",\"FAMS\",\"MARR\",\"HUSB\",\"WIFE\",\"CHIL\",\"DIV\"]\\\n",
    "         ,2:\"DATE\"}\n",
    "file_name_1=\"My-Family-17-Sep-2018-358\"\n",
    "file_name_2=\"copy\"\n",
    "individualList=[]\n",
    "familyList=[]\n",
    "def monthToNum(shortMonth):\n",
    "    return{\n",
    "            'JAN' : 1,\n",
    "            'FEB' : 2,\n",
    "            'MAR' : 3,\n",
    "            'APR' : 4,\n",
    "            'MAY' : 5,\n",
    "            'JUN' : 6,\n",
    "            'JUL' : 7,\n",
    "            'AUG' : 8,\n",
    "            'SEP' : 9, \n",
    "            'OCT' : 10,\n",
    "            'NOV' : 11,\n",
    "            'DEC' : 12\n",
    "    }[shortMonth]\n",
    "\n",
    "def readAndSaveToList(filename,List,List2):\n",
    "    #read gedcom file\n",
    "    filename=filename+\".ged\"\n",
    "    input_ged = open(filename, \"r\") \n",
    "   # saveFile=\"output_\"+filename+\".txt\"\n",
    "   # writeFile = open(saveFile, \"w\")\n",
    "    #set flags\n",
    "    flag_Birth=False\n",
    "    flag_Death=False\n",
    "    flag_Married=False\n",
    "    flag_Divorced=False\n",
    "    #read each line to input\n",
    "\n",
    "    for each_input in input_ged:\n",
    "        # Ensure line is not empty or comments\n",
    "        if len(each_input)>0 and each_input[:2]!=\"--\":\n",
    "            each_input=each_input.rstrip(\"\\n\")\n",
    "          #  print(each_input)\n",
    "            each_input_split=each_input.split()\n",
    "            # Ensure there're level and tag\n",
    "            if len(each_input_split)>=2:\n",
    "                level,tag=int(each_input_split[0]),each_input_split[1]\n",
    "                # Ensure input is valid\n",
    "                word_count=2+len(tag)+1\n",
    "                # Ensure there's desc to process\n",
    "                if len(each_input_split)>=3:\n",
    "                    desc=each_input_split[2]\n",
    "                    # Detect New Individual and create new class\n",
    "                    if desc==\"INDI\":\n",
    "                        ID=tag[0:3]\n",
    "                        p1=Individuals(ID)\n",
    "                        List.append(p1)\n",
    "                    # Detect New Family and create new class\n",
    "                    if desc==\"FAM\":\n",
    "                        ID=tag\n",
    "                        f1=Families(ID)\n",
    "                        List2.append(f1)    \n",
    "                    if tag==\"SEX\":\n",
    "                        SEX=desc  \n",
    "                        p1.Gender=SEX    \n",
    "                    if tag==\"NAME\":\n",
    "                        NAME=each_input[word_count:].strip()\n",
    "                        p1.Name=NAME\n",
    "                    if flag_Birth==True and tag==\"DATE\":\n",
    "                        B_DAY=int(desc)\n",
    "                        B_MONTH=int(monthToNum(each_input_split[3]))\n",
    "                        B_YEAR=int(each_input_split[4])\n",
    "                        \n",
    "                        Birthday=datetime.date(B_YEAR,B_MONTH,B_DAY)\n",
    "                        p1.Age=int ((date.today()-Birthday)/datetime.timedelta (days=1)/365)\n",
    "                        p1.Birthday=str(Birthday)\n",
    "                        flag_Birth=False   \n",
    "                    if flag_Death==True and tag==\"DATE\":\n",
    "                        D_DAY=int(desc)\n",
    "                        D_MONTH=int(monthToNum(each_input_split[3]))\n",
    "                        D_YEAR=int(each_input_split[4])\n",
    "                        \n",
    "                        Death=datetime.date(D_YEAR,D_MONTH,D_DAY)\n",
    "                        p1.Age=int((Death-Birthday)/datetime.timedelta (days=1)/365)\n",
    "                        p1.Death=str(Death)\n",
    "                        flag_Death=False\n",
    "                    if flag_Married==True and tag==\"DATE\":\n",
    "                        M_DAY=int(desc)\n",
    "                        M_MONTH=int(monthToNum(each_input_split[3]))\n",
    "                        M_YEAR=int(each_input_split[4]) \n",
    "                        MarriedDay=datetime.date(M_YEAR,M_MONTH,M_DAY)\n",
    "                        f1.Married=str(MarriedDay)\n",
    "                    if flag_Divorced==True and tag==\"DATE\":\n",
    "                        D_DAY=int(desc)\n",
    "                        D_MONTH=int(monthToNum(each_input_split[3]))\n",
    "                        D_YEAR=int(each_input_split[4]) \n",
    "                        DivorcedDay=datetime.date(B_YEAR,B_MONTH,B_DAY)\n",
    "                        f1.Divorced=str(DivorcedDay)\n",
    "                    if tag==\"FAMS\":\n",
    "                        Spouse=desc\n",
    "                        p1.Spouse=Spouse\n",
    "                    if tag==\"FAMC\":\n",
    "                        Child=desc\n",
    "                        p1.Child=Child\n",
    "                    if tag==\"HUSB\":\n",
    "                        Husband=desc\n",
    "                        f1.HusbandID=Husband\n",
    "                        for each in List:\n",
    "                            if each.ID==f1.HusbandID: \n",
    "                                f1.HusbandName=each.Name      \n",
    "                    if tag==\"WIFE\":\n",
    "                        Wife=desc\n",
    "                        f1.WifeID=Wife\n",
    "                        for each in List:\n",
    "                            if each.ID==f1.WifeID: \n",
    "                                f1.WifeName=each.Name\n",
    "                    if tag==\"CHIL\":\n",
    "                        Children=desc\n",
    "                        f1.Children.append(Children)\n",
    "                elif len(each_input_split)==2:\n",
    "                    if tag==\"BIRT\":\n",
    "                        flag_Birth=True\n",
    "                        p1.Alive=\"True\"\n",
    "                    if tag==\"DEAT\":\n",
    "                        flag_Death=True\n",
    "                        p1.Alive=\"False\"\n",
    "                    if tag==\"MARR\":\n",
    "                        flag_Married=True\n",
    "                    if tag==\"DIV\":\n",
    "                        flag_Divorced=True\n",
    "                        "
   ]
  },
  {
   "cell_type": "code",
   "execution_count": 63,
   "metadata": {
    "scrolled": true
   },
   "outputs": [],
   "source": [
    "readAndSaveToList(file_name_2,individualList,familyList)"
   ]
  },
  {
   "cell_type": "code",
   "execution_count": 80,
   "metadata": {
    "scrolled": true
   },
   "outputs": [
    {
     "name": "stdout",
     "output_type": "stream",
     "text": [
      "F23\n",
      "F23\n",
      "NA\n",
      "NA\n"
     ]
    }
   ],
   "source": [
    "len(individualList)\n",
    "\n",
    "for each in individualList:\n",
    "   # print(each.ID+each.Name+\"\\t\"+str(each.Age)+\"\\t\"+each.Birthday+\"\\t\"+each.Death+each.Alive)\n",
    "    print(each.Spouse)"
   ]
  },
  {
   "cell_type": "code",
   "execution_count": 70,
   "metadata": {
    "scrolled": true
   },
   "outputs": [
    {
     "name": "stdout",
     "output_type": "stream",
     "text": [
      "['I19', 'I26']\n"
     ]
    }
   ],
   "source": [
    "for each in familyList:\n",
    "    print(each.Children)"
   ]
  }
 ],
 "metadata": {
  "kernelspec": {
   "display_name": "Python 3",
   "language": "python",
   "name": "python3"
  },
  "language_info": {
   "codemirror_mode": {
    "name": "ipython",
    "version": 3
   },
   "file_extension": ".py",
   "mimetype": "text/x-python",
   "name": "python",
   "nbconvert_exporter": "python",
   "pygments_lexer": "ipython3",
   "version": "3.6.3"
  }
 },
 "nbformat": 4,
 "nbformat_minor": 2
}
